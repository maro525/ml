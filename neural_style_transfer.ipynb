{
  "nbformat": 4,
  "nbformat_minor": 0,
  "metadata": {
    "colab": {
      "name": "neural-style-transfer.ipynb",
      "version": "0.3.2",
      "provenance": [],
      "collapsed_sections": []
    },
    "kernelspec": {
      "name": "python3",
      "display_name": "Python 3"
    },
    "accelerator": "GPU"
  },
  "cells": [
    {
      "cell_type": "markdown",
      "metadata": {
        "id": "view-in-github",
        "colab_type": "text"
      },
      "source": [
        "[View in Colaboratory](https://colab.research.google.com/github/maro525/ml/blob/master/neural_style_transfer.ipynb)"
      ]
    },
    {
      "metadata": {
        "id": "SPQqJ1jB3ajf",
        "colab_type": "code",
        "colab": {
          "base_uri": "https://localhost:8080/",
          "height": 52
        },
        "outputId": "917782cd-2efc-4065-c3cf-9426a165eb51"
      },
      "cell_type": "code",
      "source": [
        "!pwd\n",
        "!ls"
      ],
      "execution_count": 1,
      "outputs": [
        {
          "output_type": "stream",
          "text": [
            "/content\n",
            "datalab\n"
          ],
          "name": "stdout"
        }
      ]
    },
    {
      "metadata": {
        "id": "CnZgBn1W3kg8",
        "colab_type": "code",
        "colab": {}
      },
      "cell_type": "code",
      "source": [
        ""
      ],
      "execution_count": 0,
      "outputs": []
    },
    {
      "metadata": {
        "id": "dxdRgfPSJBIW",
        "colab_type": "text"
      },
      "cell_type": "markdown",
      "source": [
        "https://github.com/titu1994/Neural-Style-Transfer"
      ]
    },
    {
      "metadata": {
        "id": "SVxqz4lG0yzg",
        "colab_type": "code",
        "colab": {}
      },
      "cell_type": "code",
      "source": [
        "!apt-get install -y -qq software-properties-common python-software-properties module-init-tools\n",
        "!add-apt-repository -y ppa:alessandro-strada/ppa 2>&1 > /dev/null\n",
        "!apt-get update -qq 2>&1 > /dev/null\n",
        "!apt-get -y install -qq google-drive-ocamlfuse fuse\n",
        "\n",
        "# create auth token\n",
        "from google.colab import auth\n",
        "auth.authenticate_user()"
      ],
      "execution_count": 0,
      "outputs": []
    },
    {
      "metadata": {
        "id": "cEi3AGb61FIT",
        "colab_type": "code",
        "colab": {
          "base_uri": "https://localhost:8080/",
          "height": 106
        },
        "outputId": "e0ede7c0-fcca-4d7d-865c-234bd46a81c1"
      },
      "cell_type": "code",
      "source": [
        "from oauth2client.client import GoogleCredentials\n",
        "creds = GoogleCredentials.get_application_default()\n",
        "import getpass\n",
        "!google-drive-ocamlfuse -headless -id={creds.client_id} -secret={creds.client_secret} < /dev/null 2>&1 | grep URL\n",
        "vcode = getpass.getpass()\n",
        "!echo {vcode} | google-drive-ocamlfuse -headless -id={creds.client_id} -secret={creds.client_secret}"
      ],
      "execution_count": 3,
      "outputs": [
        {
          "output_type": "stream",
          "text": [
            "Please, open the following URL in a web browser: https://accounts.google.com/o/oauth2/auth?client_id=32555940559.apps.googleusercontent.com&redirect_uri=urn%3Aietf%3Awg%3Aoauth%3A2.0%3Aoob&scope=https%3A%2F%2Fwww.googleapis.com%2Fauth%2Fdrive&response_type=code&access_type=offline&approval_prompt=force\r\n",
            "··········\n",
            "Please, open the following URL in a web browser: https://accounts.google.com/o/oauth2/auth?client_id=32555940559.apps.googleusercontent.com&redirect_uri=urn%3Aietf%3Awg%3Aoauth%3A2.0%3Aoob&scope=https%3A%2F%2Fwww.googleapis.com%2Fauth%2Fdrive&response_type=code&access_type=offline&approval_prompt=force\n",
            "Please enter the verification code: Access token retrieved correctly.\n"
          ],
          "name": "stdout"
        }
      ]
    },
    {
      "metadata": {
        "id": "vSu1dYCb1Ypq",
        "colab_type": "code",
        "colab": {}
      },
      "cell_type": "code",
      "source": [
        "!mkdir -p drive\n",
        "!google-drive-ocamlfuse drive"
      ],
      "execution_count": 0,
      "outputs": []
    },
    {
      "metadata": {
        "id": "VT_JhtmC1OE4",
        "colab_type": "code",
        "colab": {
          "base_uri": "https://localhost:8080/",
          "height": 69
        },
        "outputId": "9a7eac72-cefd-4894-9ed4-c6ad70d577c4"
      },
      "cell_type": "code",
      "source": [
        "!pwd\n",
        "!ls /content/drive/Notebooks\n",
        "import os\n",
        "os.chdir('/content/drive/Notebooks/neural-style-transfer')"
      ],
      "execution_count": 5,
      "outputs": [
        {
          "output_type": "stream",
          "text": [
            "/content\n",
            "fast-style-transfer  neural-style-transfer  Soundscape\n",
            "gan\t\t     segment\t\t    world_image\n"
          ],
          "name": "stdout"
        }
      ]
    },
    {
      "metadata": {
        "id": "XfW-_glDUFAN",
        "colab_type": "code",
        "colab": {
          "base_uri": "https://localhost:8080/",
          "height": 139
        },
        "outputId": "2e857964-a170-439b-f97d-f265aef7b592"
      },
      "cell_type": "code",
      "source": [
        "# !git clone https://github.com/titu1994/Neural-Style-Transfer.git"
      ],
      "execution_count": 6,
      "outputs": [
        {
          "output_type": "stream",
          "text": [
            "Cloning into 'Neural-Style-Transfer'...\n",
            "remote: Counting objects: 1315, done.\u001b[K\n",
            "remote: Compressing objects: 100% (27/27), done.\u001b[K\n",
            "remote: Total 1315 (delta 12), reused 26 (delta 8), pack-reused 1280\u001b[K\n",
            "Receiving objects: 100% (1315/1315), 64.99 MiB | 231.00 KiB/s, done.\n",
            "Resolving deltas: 100% (770/770), done.\n",
            "Checking out files: 100% (119/119), done.\n"
          ],
          "name": "stdout"
        }
      ]
    },
    {
      "metadata": {
        "id": "g5ppfJJDTETj",
        "colab_type": "code",
        "colab": {
          "base_uri": "https://localhost:8080/",
          "height": 52
        },
        "outputId": "202ffd73-f600-4d14-e5f5-eb3614e93f9e"
      },
      "cell_type": "code",
      "source": [
        "!pwd\n",
        "!ls\n",
        "os.chdir('Neural-Style-Transfer')"
      ],
      "execution_count": 6,
      "outputs": [
        {
          "output_type": "stream",
          "text": [
            "/content/drive/Notebooks/neural-style-transfer\n",
            "Neural-Style-Transfer  neural-style-transfer.ipynb\n"
          ],
          "name": "stdout"
        }
      ]
    },
    {
      "metadata": {
        "id": "im_wPTK_76vI",
        "colab_type": "code",
        "colab": {
          "base_uri": "https://localhost:8080/",
          "height": 104
        },
        "outputId": "44caeb27-9988-4c3f-b81f-f9db224e73f7"
      },
      "cell_type": "code",
      "source": [
        "!pwd\n",
        "!ls"
      ],
      "execution_count": 7,
      "outputs": [
        {
          "output_type": "stream",
          "text": [
            "/content/drive/Notebooks/neural-style-transfer/Neural-Style-Transfer\n",
            "color_transfer.py\t   INetwork.py\t     Network.py        script_helper\n",
            "Guide.md\t\t   LICENCE\t     neural_doodle.py\n",
            "images\t\t\t   mask_transfer.py  output\n",
            "improved_neural_doodle.py  MRFNetwork.py     README.md\n"
          ],
          "name": "stdout"
        }
      ]
    },
    {
      "metadata": {
        "id": "5HZC26E-8CT8",
        "colab_type": "code",
        "colab": {
          "base_uri": "https://localhost:8080/",
          "height": 1218
        },
        "outputId": "614f83ba-d4d5-41b7-8eb0-e0e84422dd50"
      },
      "cell_type": "code",
      "source": [
        "!python Network.py \"images/inputs/myphoto/test1.jpg\" \"images/inputs/mystyle/style.jpg\" \"output/test2/output.jpg\""
      ],
      "execution_count": 9,
      "outputs": [
        {
          "output_type": "stream",
          "text": [
            "/usr/local/lib/python3.6/dist-packages/h5py/__init__.py:36: FutureWarning: Conversion of the second argument of issubdtype from `float` to `np.floating` is deprecated. In future, it will be treated as `np.float64 == np.dtype(float).type`.\r\n",
            "  from ._conv import register_converters as _register_converters\n",
            "Using TensorFlow backend.\n",
            "/usr/local/lib/python3.6/dist-packages/scipy/misc/pilutil.py:482: FutureWarning: Conversion of the second argument of issubdtype from `int` to `np.signedinteger` is deprecated. In future, it will be treated as `np.int64 == np.dtype(int).type`.\n",
            "  if issubdtype(ts, int):\n",
            "/usr/local/lib/python3.6/dist-packages/scipy/misc/pilutil.py:485: FutureWarning: Conversion of the second argument of issubdtype from `float` to `np.floating` is deprecated. In future, it will be treated as `np.float64 == np.dtype(float).type`.\n",
            "  elif issubdtype(type(size), float):\n",
            "2018-06-04 01:33:12.732577: I tensorflow/stream_executor/cuda/cuda_gpu_executor.cc:898] successful NUMA node read from SysFS had negative value (-1), but there must be at least one NUMA node, so returning NUMA node zero\n",
            "2018-06-04 01:33:12.733132: I tensorflow/core/common_runtime/gpu/gpu_device.cc:1356] Found device 0 with properties: \n",
            "name: Tesla K80 major: 3 minor: 7 memoryClockRate(GHz): 0.8235\n",
            "pciBusID: 0000:00:04.0\n",
            "totalMemory: 11.17GiB freeMemory: 11.10GiB\n",
            "2018-06-04 01:33:12.733190: I tensorflow/core/common_runtime/gpu/gpu_device.cc:1435] Adding visible gpu devices: 0\n",
            "2018-06-04 01:33:13.050082: I tensorflow/core/common_runtime/gpu/gpu_device.cc:923] Device interconnect StreamExecutor with strength 1 edge matrix:\n",
            "2018-06-04 01:33:13.050145: I tensorflow/core/common_runtime/gpu/gpu_device.cc:929]      0 \n",
            "2018-06-04 01:33:13.050172: I tensorflow/core/common_runtime/gpu/gpu_device.cc:942] 0:   N \n",
            "2018-06-04 01:33:13.050515: I tensorflow/core/common_runtime/gpu/gpu_device.cc:1053] Created TensorFlow device (/job:localhost/replica:0/task:0/device:GPU:0 with 10765 MB memory) -> physical GPU (device: 0, name: Tesla K80, pci bus id: 0000:00:04.0, compute capability: 3.7)\n",
            "Model loaded.\n",
            "Starting iteration 1 of 10\n",
            "Current loss value: 1433783000.0  Improvement : 0.000 %\n",
            "Rescaling Image to (400, 533)\n",
            "Image saved as output/test2/output.jpg_at_iteration_1.png\n",
            "Iteration 1 completed in 19s\n",
            "Starting iteration 2 of 10\n",
            "Current loss value: 388153020.0  Improvement : 72.928 %\n",
            "Rescaling Image to (400, 533)\n",
            "Image saved as output/test2/output.jpg_at_iteration_2.png\n",
            "Iteration 2 completed in 17s\n",
            "Starting iteration 3 of 10\n",
            "Current loss value: 199595470.0  Improvement : 48.578 %\n",
            "Rescaling Image to (400, 533)\n",
            "Image saved as output/test2/output.jpg_at_iteration_3.png\n",
            "Iteration 3 completed in 15s\n",
            "Starting iteration 4 of 10\n",
            "Current loss value: 136737420.0  Improvement : 31.493 %\n",
            "Rescaling Image to (400, 533)\n",
            "Image saved as output/test2/output.jpg_at_iteration_4.png\n",
            "Iteration 4 completed in 16s\n",
            "Starting iteration 5 of 10\n",
            "Current loss value: 101264600.0  Improvement : 25.942 %\n",
            "Rescaling Image to (400, 533)\n",
            "Image saved as output/test2/output.jpg_at_iteration_5.png\n",
            "Iteration 5 completed in 16s\n",
            "Starting iteration 6 of 10\n",
            "Current loss value: 79707590.0  Improvement : 21.288 %\n",
            "Rescaling Image to (400, 533)\n",
            "Image saved as output/test2/output.jpg_at_iteration_6.png\n",
            "Iteration 6 completed in 16s\n",
            "Starting iteration 7 of 10\n",
            "Current loss value: 64549376.0  Improvement : 19.017 %\n",
            "Rescaling Image to (400, 533)\n",
            "Image saved as output/test2/output.jpg_at_iteration_7.png\n",
            "Iteration 7 completed in 16s\n",
            "Starting iteration 8 of 10\n",
            "Current loss value: 53042230.0  Improvement : 17.827 %\n",
            "Rescaling Image to (400, 533)\n",
            "Image saved as output/test2/output.jpg_at_iteration_8.png\n",
            "Iteration 8 completed in 16s\n",
            "Starting iteration 9 of 10\n",
            "Current loss value: 44082400.0  Improvement : 16.892 %\n",
            "Rescaling Image to (400, 533)\n",
            "Image saved as output/test2/output.jpg_at_iteration_9.png\n",
            "Iteration 9 completed in 16s\n",
            "Starting iteration 10 of 10\n",
            "Current loss value: 38091372.0  Improvement : 13.591 %\n",
            "Rescaling Image to (400, 533)\n",
            "Image saved as output/test2/output.jpg_at_iteration_10.png\n",
            "Iteration 10 completed in 16s\n"
          ],
          "name": "stdout"
        }
      ]
    },
    {
      "metadata": {
        "id": "G6YsD7Vv8lPl",
        "colab_type": "code",
        "colab": {}
      },
      "cell_type": "code",
      "source": [
        "n"
      ],
      "execution_count": 0,
      "outputs": []
    }
  ]
}