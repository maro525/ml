{
  "nbformat": 4,
  "nbformat_minor": 0,
  "metadata": {
    "colab": {
      "name": "neural-style-transfer.ipynb",
      "version": "0.3.2",
      "provenance": [],
      "collapsed_sections": [],
      "include_colab_link": true
    },
    "kernelspec": {
      "name": "python3",
      "display_name": "Python 3"
    },
    "accelerator": "GPU"
  },
  "cells": [
    {
      "cell_type": "markdown",
      "metadata": {
        "id": "view-in-github",
        "colab_type": "text"
      },
      "source": [
        "<a href=\"https://colab.research.google.com/github/maro525/ml_ColabNotebooks/blob/master/neural_style_transfer.ipynb\" target=\"_parent\"><img src=\"https://colab.research.google.com/assets/colab-badge.svg\" alt=\"Open In Colab\"/></a>"
      ]
    },
    {
      "metadata": {
        "id": "SPQqJ1jB3ajf",
        "colab_type": "code",
        "outputId": "917782cd-2efc-4065-c3cf-9426a165eb51",
        "colab": {
          "base_uri": "https://localhost:8080/",
          "height": 52
        }
      },
      "cell_type": "code",
      "source": [
        "!pwd\n",
        "!ls"
      ],
      "execution_count": 0,
      "outputs": [
        {
          "output_type": "stream",
          "text": [
            "/content\n",
            "datalab\n"
          ],
          "name": "stdout"
        }
      ]
    },
    {
      "metadata": {
        "id": "CnZgBn1W3kg8",
        "colab_type": "code",
        "colab": {}
      },
      "cell_type": "code",
      "source": [
        ""
      ],
      "execution_count": 0,
      "outputs": []
    },
    {
      "metadata": {
        "id": "dxdRgfPSJBIW",
        "colab_type": "text"
      },
      "cell_type": "markdown",
      "source": [
        "https://github.com/titu1994/Neural-Style-Transfer"
      ]
    },
    {
      "metadata": {
        "id": "SVxqz4lG0yzg",
        "colab_type": "code",
        "colab": {}
      },
      "cell_type": "code",
      "source": [
        "!apt-get install -y -qq software-properties-common python-software-properties module-init-tools\n",
        "!add-apt-repository -y ppa:alessandro-strada/ppa 2>&1 > /dev/null\n",
        "!apt-get update -qq 2>&1 > /dev/null\n",
        "!apt-get -y install -qq google-drive-ocamlfuse fuse\n",
        "\n",
        "# create auth token\n",
        "from google.colab import auth\n",
        "auth.authenticate_user()"
      ],
      "execution_count": 0,
      "outputs": []
    },
    {
      "metadata": {
        "id": "cEi3AGb61FIT",
        "colab_type": "code",
        "outputId": "afbbc8f9-79b5-4635-e62d-d88b84886549",
        "colab": {
          "base_uri": "https://localhost:8080/",
          "height": 106
        }
      },
      "cell_type": "code",
      "source": [
        "from oauth2client.client import GoogleCredentials\n",
        "creds = GoogleCredentials.get_application_default()\n",
        "import getpass\n",
        "!google-drive-ocamlfuse -headless -id={creds.client_id} -secret={creds.client_secret} < /dev/null 2>&1 | grep URL\n",
        "vcode = getpass.getpass()\n",
        "!echo {vcode} | google-drive-ocamlfuse -headless -id={creds.client_id} -secret={creds.client_secret}"
      ],
      "execution_count": 0,
      "outputs": [
        {
          "output_type": "stream",
          "text": [
            "Please, open the following URL in a web browser: https://accounts.google.com/o/oauth2/auth?client_id=32555940559.apps.googleusercontent.com&redirect_uri=urn%3Aietf%3Awg%3Aoauth%3A2.0%3Aoob&scope=https%3A%2F%2Fwww.googleapis.com%2Fauth%2Fdrive&response_type=code&access_type=offline&approval_prompt=force\r\n",
            "··········\n",
            "Please, open the following URL in a web browser: https://accounts.google.com/o/oauth2/auth?client_id=32555940559.apps.googleusercontent.com&redirect_uri=urn%3Aietf%3Awg%3Aoauth%3A2.0%3Aoob&scope=https%3A%2F%2Fwww.googleapis.com%2Fauth%2Fdrive&response_type=code&access_type=offline&approval_prompt=force\n",
            "Please enter the verification code: Access token retrieved correctly.\n"
          ],
          "name": "stdout"
        }
      ]
    },
    {
      "metadata": {
        "id": "vSu1dYCb1Ypq",
        "colab_type": "code",
        "colab": {}
      },
      "cell_type": "code",
      "source": [
        "!mkdir -p drive\n",
        "!google-drive-ocamlfuse drive"
      ],
      "execution_count": 0,
      "outputs": []
    },
    {
      "metadata": {
        "id": "VT_JhtmC1OE4",
        "colab_type": "code",
        "outputId": "50e020ad-fa85-48ce-da02-0fac1713aeaa",
        "colab": {
          "base_uri": "https://localhost:8080/",
          "height": 69
        }
      },
      "cell_type": "code",
      "source": [
        "!pwd\n",
        "!ls /content/drive/Notebooks\n",
        "import os\n",
        "os.chdir('/content/drive/Notebooks/neural-style-transfer')"
      ],
      "execution_count": 0,
      "outputs": [
        {
          "output_type": "stream",
          "text": [
            "/content\n",
            "fast-style-transfer  neural-style-transfer  Soundscape\n",
            "gan\t\t     segment\t\t    world_image\n"
          ],
          "name": "stdout"
        }
      ]
    },
    {
      "metadata": {
        "id": "XfW-_glDUFAN",
        "colab_type": "code",
        "outputId": "2e857964-a170-439b-f97d-f265aef7b592",
        "colab": {
          "base_uri": "https://localhost:8080/",
          "height": 139
        }
      },
      "cell_type": "code",
      "source": [
        "# !git clone https://github.com/titu1994/Neural-Style-Transfer.git"
      ],
      "execution_count": 0,
      "outputs": [
        {
          "output_type": "stream",
          "text": [
            "Cloning into 'Neural-Style-Transfer'...\n",
            "remote: Counting objects: 1315, done.\u001b[K\n",
            "remote: Compressing objects: 100% (27/27), done.\u001b[K\n",
            "remote: Total 1315 (delta 12), reused 26 (delta 8), pack-reused 1280\u001b[K\n",
            "Receiving objects: 100% (1315/1315), 64.99 MiB | 231.00 KiB/s, done.\n",
            "Resolving deltas: 100% (770/770), done.\n",
            "Checking out files: 100% (119/119), done.\n"
          ],
          "name": "stdout"
        }
      ]
    },
    {
      "metadata": {
        "id": "g5ppfJJDTETj",
        "colab_type": "code",
        "outputId": "58d9b458-403d-48fe-fbec-d0d7cdc22588",
        "colab": {
          "base_uri": "https://localhost:8080/",
          "height": 52
        }
      },
      "cell_type": "code",
      "source": [
        "!pwd\n",
        "!ls\n",
        "os.chdir('Neural-Style-Transfer')"
      ],
      "execution_count": 0,
      "outputs": [
        {
          "output_type": "stream",
          "text": [
            "/content/drive/Notebooks/neural-style-transfer\n",
            "Neural-Style-Transfer  neural-style-transfer.ipynb\n"
          ],
          "name": "stdout"
        }
      ]
    },
    {
      "metadata": {
        "id": "im_wPTK_76vI",
        "colab_type": "code",
        "outputId": "2123e127-cee9-4047-f60c-9e0d625915f9",
        "colab": {
          "base_uri": "https://localhost:8080/",
          "height": 104
        }
      },
      "cell_type": "code",
      "source": [
        "!pwd\n",
        "!ls"
      ],
      "execution_count": 0,
      "outputs": [
        {
          "output_type": "stream",
          "text": [
            "/content/drive/Notebooks/neural-style-transfer/Neural-Style-Transfer\n",
            "color_transfer.py\t   INetwork.py\t     Network.py        script_helper\n",
            "Guide.md\t\t   LICENCE\t     neural_doodle.py\n",
            "images\t\t\t   mask_transfer.py  output\n",
            "improved_neural_doodle.py  MRFNetwork.py     README.md\n"
          ],
          "name": "stdout"
        }
      ]
    },
    {
      "metadata": {
        "id": "5HZC26E-8CT8",
        "colab_type": "code",
        "outputId": "7bc58d2d-65ef-4352-a089-a081e93dc5c3",
        "colab": {
          "base_uri": "https://localhost:8080/",
          "height": 1253
        }
      },
      "cell_type": "code",
      "source": [
        "!python Network.py \"images/inputs/myphoto/test2.jpg\" \"images/inputs/mystyle/style.jpg\" \"output/test2/output.jpg\""
      ],
      "execution_count": 0,
      "outputs": [
        {
          "output_type": "stream",
          "text": [
            "/usr/local/lib/python3.6/dist-packages/h5py/__init__.py:36: FutureWarning: Conversion of the second argument of issubdtype from `float` to `np.floating` is deprecated. In future, it will be treated as `np.float64 == np.dtype(float).type`.\r\n",
            "  from ._conv import register_converters as _register_converters\n",
            "Using TensorFlow backend.\n",
            "/usr/local/lib/python3.6/dist-packages/scipy/misc/pilutil.py:482: FutureWarning: Conversion of the second argument of issubdtype from `int` to `np.signedinteger` is deprecated. In future, it will be treated as `np.int64 == np.dtype(int).type`.\n",
            "  if issubdtype(ts, int):\n",
            "/usr/local/lib/python3.6/dist-packages/scipy/misc/pilutil.py:485: FutureWarning: Conversion of the second argument of issubdtype from `float` to `np.floating` is deprecated. In future, it will be treated as `np.float64 == np.dtype(float).type`.\n",
            "  elif issubdtype(type(size), float):\n",
            "Downloading data from https://github.com/fchollet/deep-learning-models/releases/download/v0.1/vgg16_weights_tf_dim_ordering_tf_kernels_notop.h5\n",
            "58892288/58889256 [==============================] - 5s 0us/step\n",
            "2018-06-05 09:06:15.989142: I tensorflow/stream_executor/cuda/cuda_gpu_executor.cc:898] successful NUMA node read from SysFS had negative value (-1), but there must be at least one NUMA node, so returning NUMA node zero\n",
            "2018-06-05 09:06:15.989608: I tensorflow/core/common_runtime/gpu/gpu_device.cc:1356] Found device 0 with properties: \n",
            "name: Tesla K80 major: 3 minor: 7 memoryClockRate(GHz): 0.8235\n",
            "pciBusID: 0000:00:04.0\n",
            "totalMemory: 11.17GiB freeMemory: 11.10GiB\n",
            "2018-06-05 09:06:15.989643: I tensorflow/core/common_runtime/gpu/gpu_device.cc:1435] Adding visible gpu devices: 0\n",
            "2018-06-05 09:06:16.296890: I tensorflow/core/common_runtime/gpu/gpu_device.cc:923] Device interconnect StreamExecutor with strength 1 edge matrix:\n",
            "2018-06-05 09:06:16.296955: I tensorflow/core/common_runtime/gpu/gpu_device.cc:929]      0 \n",
            "2018-06-05 09:06:16.296971: I tensorflow/core/common_runtime/gpu/gpu_device.cc:942] 0:   N \n",
            "2018-06-05 09:06:16.297259: I tensorflow/core/common_runtime/gpu/gpu_device.cc:1053] Created TensorFlow device (/job:localhost/replica:0/task:0/device:GPU:0 with 10765 MB memory) -> physical GPU (device: 0, name: Tesla K80, pci bus id: 0000:00:04.0, compute capability: 3.7)\n",
            "Model loaded.\n",
            "Starting iteration 1 of 10\n",
            "Current loss value: 960966500.0  Improvement : 0.000 %\n",
            "Rescaling Image to (400, 300)\n",
            "Image saved as output/test2/output.jpg_at_iteration_1.png\n",
            "Iteration 1 completed in 12s\n",
            "Starting iteration 2 of 10\n",
            "Current loss value: 361823420.0  Improvement : 62.348 %\n",
            "Rescaling Image to (400, 300)\n",
            "Image saved as output/test2/output.jpg_at_iteration_2.png\n",
            "Iteration 2 completed in 10s\n",
            "Starting iteration 3 of 10\n",
            "Current loss value: 203875580.0  Improvement : 43.653 %\n",
            "Rescaling Image to (400, 300)\n",
            "Image saved as output/test2/output.jpg_at_iteration_3.png\n",
            "Iteration 3 completed in 9s\n",
            "Starting iteration 4 of 10\n",
            "Current loss value: 149208200.0  Improvement : 26.814 %\n",
            "Rescaling Image to (400, 300)\n"
          ],
          "name": "stdout"
        },
        {
          "output_type": "stream",
          "text": [
            "Image saved as output/test2/output.jpg_at_iteration_4.png\r\n",
            "Iteration 4 completed in 9s\r\n",
            "Starting iteration 5 of 10\n",
            "Current loss value: 117103650.0  Improvement : 21.517 %\n",
            "Rescaling Image to (400, 300)\n",
            "Image saved as output/test2/output.jpg_at_iteration_5.png\n",
            "Iteration 5 completed in 9s\n",
            "Starting iteration 6 of 10\n",
            "Current loss value: 95813390.0  Improvement : 18.181 %\n",
            "Rescaling Image to (400, 300)\n",
            "Image saved as output/test2/output.jpg_at_iteration_6.png\n",
            "Iteration 6 completed in 10s\n",
            "Starting iteration 7 of 10\n",
            "Current loss value: 80635800.0  Improvement : 15.841 %\n",
            "Rescaling Image to (400, 300)\n",
            "Image saved as output/test2/output.jpg_at_iteration_7.png\n",
            "Iteration 7 completed in 9s\n",
            "Starting iteration 8 of 10\n",
            "Current loss value: 68751350.0  Improvement : 14.738 %\n",
            "Rescaling Image to (400, 300)\n",
            "Image saved as output/test2/output.jpg_at_iteration_8.png\n",
            "Iteration 8 completed in 9s\n",
            "Starting iteration 9 of 10\n",
            "Current loss value: 60440664.0  Improvement : 12.088 %\n",
            "Rescaling Image to (400, 300)\n",
            "Image saved as output/test2/output.jpg_at_iteration_9.png\n",
            "Iteration 9 completed in 10s\n",
            "Starting iteration 10 of 10\n",
            "Current loss value: 53547964.0  Improvement : 11.404 %\n",
            "Rescaling Image to (400, 300)\n",
            "Image saved as output/test2/output.jpg_at_iteration_10.png\n",
            "Iteration 10 completed in 9s\n"
          ],
          "name": "stdout"
        }
      ]
    },
    {
      "metadata": {
        "id": "G6YsD7Vv8lPl",
        "colab_type": "code",
        "colab": {}
      },
      "cell_type": "code",
      "source": [
        ""
      ],
      "execution_count": 0,
      "outputs": []
    }
  ]
}